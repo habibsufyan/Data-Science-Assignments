{
  "nbformat": 4,
  "nbformat_minor": 0,
  "metadata": {
    "colab": {
      "provenance": []
    },
    "kernelspec": {
      "name": "python3",
      "display_name": "Python 3"
    },
    "language_info": {
      "name": "python"
    }
  },
  "cells": [
    {
      "cell_type": "markdown",
      "source": [
        "**Assignment 2: String Formatting using `.format()`\n",
        "\n",
        "**Instructions:**\n",
        "\n",
        "1. Create a variable `item` and assign a product name to it (e.g., \"laptop\", \"book\", \"phone\").\n",
        "2. Create a variable `price` and assign a price to the item.\n",
        "3. Create a variable `quantity` and assign a quantity value.\n",
        "4. Calculate the total cost using the formula: `total_cost = price * quantity`.\n",
        "5. Using the `.format()` method, create a formatted string: \"I bought `<quantity>` `<item>`(s) at `<price>` each, for a total of $`<total_cost>`.\"\n",
        "6. Print the formatted string.\n",
        "---\n",
        "\n"
      ],
      "metadata": {
        "id": "x4RcFoxJ-uMG"
      }
    },
    {
      "cell_type": "code",
      "source": [
        "item = \"Samsung 10\"\n",
        "price = 50\n",
        "quantity = 100\n",
        "\n",
        "total_cost = price * quantity\n",
        "\n",
        "Mobile_Info = \"\"\"I Bought {0} {1}(s) at ${2} each, for total of ${3}\"\"\".format(quantity,item,price,total_cost)\n",
        "\n",
        "print (Mobile_Info)"
      ],
      "metadata": {
        "colab": {
          "base_uri": "https://localhost:8080/"
        },
        "id": "KX6AuTny-wRb",
        "outputId": "8606afdc-8dc0-43b8-f09a-df5a9684cf70"
      },
      "execution_count": 22,
      "outputs": [
        {
          "output_type": "stream",
          "name": "stdout",
          "text": [
            "I Bought 100 Samsung 10(s) at $50 each, for total of $5000\n"
          ]
        }
      ]
    }
  ]
}
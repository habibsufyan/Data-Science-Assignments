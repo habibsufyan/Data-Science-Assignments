{
  "nbformat": 4,
  "nbformat_minor": 0,
  "metadata": {
    "colab": {
      "provenance": []
    },
    "kernelspec": {
      "name": "python3",
      "display_name": "Python 3"
    },
    "language_info": {
      "name": "python"
    }
  },
  "cells": [
    {
      "cell_type": "markdown",
      "source": [
        "**Assignment 1: String Concatenation and Formatting**"
      ],
      "metadata": {
        "id": "x4RcFoxJ-uMG"
      }
    },
    {
      "cell_type": "code",
      "source": [
        "name = \"Habib ur Rehman Sufyan.\"\n",
        "age = \"31\"\n",
        "country = \"Pakistan\"\n",
        "\n",
        "My_Info = \"My name is \" + name + \" My age is \" + age +\\\n",
        " \" years old & I live in \" + country\n",
        "\n",
        "print (My_Info)"
      ],
      "metadata": {
        "colab": {
          "base_uri": "https://localhost:8080/"
        },
        "id": "KX6AuTny-wRb",
        "outputId": "d351fb38-3cd6-4031-f5e4-061d7af87f93"
      },
      "execution_count": 19,
      "outputs": [
        {
          "output_type": "stream",
          "name": "stdout",
          "text": [
            "My name is Habib ur Rehman Sufyan. My age is 31 years old & I live in Pakistan\n"
          ]
        }
      ]
    }
  ]
}
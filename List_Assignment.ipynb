{
 "cells": [
  {
   "cell_type": "markdown",
   "id": "986a9baf",
   "metadata": {},
   "source": [
    "## Python List Manipulation Assignment\n",
    "* Question 1: Basic List Operations\n",
    "* a) Create a list named `fruits` containing the following items: \"apple\", \"banana\", \"orange\", \"grape\", \"kiwi\"."
   ]
  },
  {
   "cell_type": "code",
   "execution_count": 2,
   "id": "a15ecce5",
   "metadata": {},
   "outputs": [
    {
     "data": {
      "text/plain": [
       "['apple', 'banana', 'orange', 'grape', 'kiwi']"
      ]
     },
     "execution_count": 2,
     "metadata": {},
     "output_type": "execute_result"
    }
   ],
   "source": [
    "fruits=[\"apple\", \"banana\", \"orange\", \"grape\", \"kiwi\"]\n",
    "fruits"
   ]
  },
  {
   "cell_type": "markdown",
   "id": "f0d6d052",
   "metadata": {},
   "source": [
    "# b) Add \"pear\" to the end of the list."
   ]
  },
  {
   "cell_type": "code",
   "execution_count": 3,
   "id": "9cae4482",
   "metadata": {},
   "outputs": [
    {
     "data": {
      "text/plain": [
       "['apple', 'banana', 'orange', 'grape', 'kiwi', 'pear']"
      ]
     },
     "execution_count": 3,
     "metadata": {},
     "output_type": "execute_result"
    }
   ],
   "source": [
    "fruits.append(\"pear\")\n",
    "fruits"
   ]
  },
  {
   "cell_type": "markdown",
   "id": "fd43b181",
   "metadata": {},
   "source": [
    "# c) Insert \"mango\" at the second position in the list."
   ]
  },
  {
   "cell_type": "code",
   "execution_count": 4,
   "id": "a35093dd",
   "metadata": {},
   "outputs": [
    {
     "data": {
      "text/plain": [
       "['apple', 'mango', 'banana', 'orange', 'grape', 'kiwi', 'pear']"
      ]
     },
     "execution_count": 4,
     "metadata": {},
     "output_type": "execute_result"
    }
   ],
   "source": [
    "fruits.insert(1,\"mango\")\n",
    "fruits"
   ]
  },
  {
   "cell_type": "markdown",
   "id": "14666036",
   "metadata": {},
   "source": [
    "# d) Remove \"orange\" from the list."
   ]
  },
  {
   "cell_type": "code",
   "execution_count": 5,
   "id": "e803dbc1",
   "metadata": {},
   "outputs": [
    {
     "data": {
      "text/plain": [
       "['apple', 'mango', 'banana', 'grape', 'kiwi', 'pear']"
      ]
     },
     "execution_count": 5,
     "metadata": {},
     "output_type": "execute_result"
    }
   ],
   "source": [
    "fruits.remove(\"orange\")\n",
    "fruits"
   ]
  },
  {
   "cell_type": "markdown",
   "id": "480e4e54",
   "metadata": {},
   "source": [
    "## Question 2: Slicing and Indexing\n"
   ]
  },
  {
   "cell_type": "markdown",
   "id": "c73981bd",
   "metadata": {},
   "source": [
    "* a) Create a list named `numbers` containing the integers from 0 to 9.\n"
   ]
  },
  {
   "cell_type": "code",
   "execution_count": 8,
   "id": "a44d2659",
   "metadata": {},
   "outputs": [
    {
     "data": {
      "text/plain": [
       "[0, 1, 2, 3, 4, 5, 6, 7, 8, 9]"
      ]
     },
     "execution_count": 8,
     "metadata": {},
     "output_type": "execute_result"
    }
   ],
   "source": [
    "numbers = list(range(0,10))\n",
    "numbers"
   ]
  },
  {
   "cell_type": "markdown",
   "id": "f1c28f71",
   "metadata": {},
   "source": [
    "* b) Print the element at index 3.\n"
   ]
  },
  {
   "cell_type": "code",
   "execution_count": 9,
   "id": "9a707d1d",
   "metadata": {},
   "outputs": [
    {
     "name": "stdout",
     "output_type": "stream",
     "text": [
      "3\n"
     ]
    }
   ],
   "source": [
    "print (numbers[3])"
   ]
  },
  {
   "cell_type": "markdown",
   "id": "695a80e3",
   "metadata": {},
   "source": [
    "* c) Print a sublist containing the elements from index 2 to 6 (inclusive).\n"
   ]
  },
  {
   "cell_type": "code",
   "execution_count": 11,
   "id": "fdf5b71d",
   "metadata": {},
   "outputs": [
    {
     "data": {
      "text/plain": [
       "[2, 3, 4, 5, 6]"
      ]
     },
     "execution_count": 11,
     "metadata": {},
     "output_type": "execute_result"
    }
   ],
   "source": [
    "sublist = numbers[2:7]\n",
    "sublist"
   ]
  },
  {
   "cell_type": "markdown",
   "id": "f18a8c2a",
   "metadata": {},
   "source": [
    "* d) Print the last three elements using negative indexing.\n"
   ]
  },
  {
   "cell_type": "code",
   "execution_count": 16,
   "id": "ad402ba8",
   "metadata": {},
   "outputs": [
    {
     "data": {
      "text/plain": [
       "[9, 8, 7]"
      ]
     },
     "execution_count": 16,
     "metadata": {},
     "output_type": "execute_result"
    }
   ],
   "source": [
    "numbers[-1:-4:-1]"
   ]
  },
  {
   "cell_type": "markdown",
   "id": "ab632824",
   "metadata": {},
   "source": [
    "## Question 3: List Comprehension\n"
   ]
  },
  {
   "cell_type": "markdown",
   "id": "fe73e500",
   "metadata": {},
   "source": [
    "* a) Create a list named `squares` using a list comprehension that contains the squares of numbers from 1 to 10."
   ]
  },
  {
   "cell_type": "code",
   "execution_count": 19,
   "id": "7df0fb65",
   "metadata": {},
   "outputs": [
    {
     "data": {
      "text/plain": [
       "[1, 4, 9, 16, 25, 36, 49, 64, 81, 100]"
      ]
     },
     "execution_count": 19,
     "metadata": {},
     "output_type": "execute_result"
    }
   ],
   "source": [
    "squares = [i**2 for i in range(1,11)]\n",
    "squares"
   ]
  },
  {
   "cell_type": "markdown",
   "id": "b5a6b9fd",
   "metadata": {},
   "source": [
    "* b) Create a new list named `even_squares` using a list comprehension that contains the squares of even numbers from the `squares` list."
   ]
  },
  {
   "cell_type": "code",
   "execution_count": 22,
   "id": "71093a37",
   "metadata": {},
   "outputs": [
    {
     "data": {
      "text/plain": [
       "[4, 16, 36, 64, 100]"
      ]
     },
     "execution_count": 22,
     "metadata": {},
     "output_type": "execute_result"
    }
   ],
   "source": [
    "even_squares = [i for i in squares if i % 2 == 0]\n",
    "even_squares"
   ]
  },
  {
   "cell_type": "markdown",
   "id": "9cbf2360",
   "metadata": {},
   "source": [
    "## Question 4: List Manipulation"
   ]
  },
  {
   "cell_type": "markdown",
   "id": "20f8244f",
   "metadata": {},
   "source": [
    "* a) Create a list named `colors` containing the following items: \"red\", \"green\", \"blue\", \"yellow\", \"purple\"."
   ]
  },
  {
   "cell_type": "code",
   "execution_count": 23,
   "id": "38b5e5ec",
   "metadata": {},
   "outputs": [
    {
     "data": {
      "text/plain": [
       "['red', 'green', 'blue', 'yellow', 'purple']"
      ]
     },
     "execution_count": 23,
     "metadata": {},
     "output_type": "execute_result"
    }
   ],
   "source": [
    "colors = [\"red\", \"green\", \"blue\", \"yellow\", \"purple\"]\n",
    "colors"
   ]
  },
  {
   "cell_type": "markdown",
   "id": "7f769cb0",
   "metadata": {},
   "source": [
    "* b) Swap the first and last elements of the list.\n"
   ]
  },
  {
   "cell_type": "code",
   "execution_count": 27,
   "id": "2434511e",
   "metadata": {},
   "outputs": [
    {
     "data": {
      "text/plain": [
       "['purple', 'green', 'blue', 'yellow', 'red']"
      ]
     },
     "execution_count": 27,
     "metadata": {},
     "output_type": "execute_result"
    }
   ],
   "source": [
    "colors = [\"red\", \"green\", \"blue\", \"yellow\", \"purple\"]\n",
    "temp = colors[0]\n",
    "colors[0] = colors[-1]\n",
    "colors[-1] = temp\n",
    "colors"
   ]
  },
  {
   "cell_type": "markdown",
   "id": "ce70348f",
   "metadata": {},
   "source": [
    "* c) Reverse the order of the list.\n"
   ]
  },
  {
   "cell_type": "code",
   "execution_count": 28,
   "id": "d173e743",
   "metadata": {},
   "outputs": [
    {
     "data": {
      "text/plain": [
       "['red', 'yellow', 'blue', 'green', 'purple']"
      ]
     },
     "execution_count": 28,
     "metadata": {},
     "output_type": "execute_result"
    }
   ],
   "source": [
    "colors.reverse()\n",
    "colors"
   ]
  },
  {
   "cell_type": "markdown",
   "id": "d3b36219",
   "metadata": {},
   "source": [
    " * d) Remove the second and third elements from the list.\n"
   ]
  },
  {
   "cell_type": "code",
   "execution_count": 32,
   "id": "4625baad",
   "metadata": {},
   "outputs": [
    {
     "name": "stdout",
     "output_type": "stream",
     "text": [
      "['red', 'green', 'purple']\n"
     ]
    }
   ],
   "source": [
    "del colors[1:3]\n",
    "print(colors)"
   ]
  },
  {
   "cell_type": "markdown",
   "id": "62e9b71a",
   "metadata": {},
   "source": [
    "# Question 5: Advanced Slicing"
   ]
  },
  {
   "cell_type": "markdown",
   "id": "6ea7f421",
   "metadata": {},
   "source": [
    "* a) Create a list named 'letters' containing the letters from 'a' to 'j'.\n"
   ]
  },
  {
   "cell_type": "code",
   "execution_count": 33,
   "id": "e22bb31a",
   "metadata": {},
   "outputs": [
    {
     "data": {
      "text/plain": [
       "['a', 'b', 'c', 'd', 'e', 'f', 'g', 'h', 'i', 'j']"
      ]
     },
     "execution_count": 33,
     "metadata": {},
     "output_type": "execute_result"
    }
   ],
   "source": [
    "letters = ['a','b','c','d','e','f','g','h','i','j']\n",
    "letters"
   ]
  },
  {
   "cell_type": "markdown",
   "id": "3d68d637",
   "metadata": {},
   "source": [
    "* b) Using slicing, create a new list `first_half` containing the first half of the `letters` list.\n"
   ]
  },
  {
   "cell_type": "code",
   "execution_count": 35,
   "id": "922ebae2",
   "metadata": {},
   "outputs": [
    {
     "data": {
      "text/plain": [
       "['a', 'b', 'c', 'd', 'e']"
      ]
     },
     "execution_count": 35,
     "metadata": {},
     "output_type": "execute_result"
    }
   ],
   "source": [
    "first_half = letters[:len(letters)//2]\n",
    "first_half"
   ]
  },
  {
   "cell_type": "markdown",
   "id": "ad8ea84a",
   "metadata": {},
   "source": [
    "* c) Using slicing, create a new list 'last_three' containing the last three elements of the 'letters' list.\n"
   ]
  },
  {
   "cell_type": "code",
   "execution_count": 38,
   "id": "e7530bbd",
   "metadata": {},
   "outputs": [
    {
     "data": {
      "text/plain": [
       "['h', 'i', 'j']"
      ]
     },
     "execution_count": 38,
     "metadata": {},
     "output_type": "execute_result"
    }
   ],
   "source": [
    "last_three = letters[7::1]\n",
    "last_three"
   ]
  },
  {
   "cell_type": "markdown",
   "id": "e7c94545",
   "metadata": {},
   "source": [
    "## Question 6: Nested Lists"
   ]
  },
  {
   "cell_type": "markdown",
   "id": "f0f0c086",
   "metadata": {},
   "source": [
    "* a) Create a nested list named `matrix` with the following rows:\n",
    "- [1, 2, 3]\n",
    "- [4, 5, 6]\n",
    "- [7, 8, 9]"
   ]
  },
  {
   "cell_type": "code",
   "execution_count": 43,
   "id": "56807845",
   "metadata": {},
   "outputs": [
    {
     "name": "stdout",
     "output_type": "stream",
     "text": [
      "[1, 2, 3]\n",
      "[4, 5, 6]\n",
      "[7, 8, 9]\n"
     ]
    }
   ],
   "source": [
    "matrix = [[1, 2, 3],[4, 5, 6],[7, 8, 9]]\n",
    "for i in matrix:\n",
    "    print(i)"
   ]
  },
  {
   "cell_type": "markdown",
   "id": "6d4b8821",
   "metadata": {},
   "source": [
    "* b) Print the element in the second row and third column.\n"
   ]
  },
  {
   "cell_type": "code",
   "execution_count": 45,
   "id": "84b29e8e",
   "metadata": {},
   "outputs": [
    {
     "data": {
      "text/plain": [
       "6"
      ]
     },
     "execution_count": 45,
     "metadata": {},
     "output_type": "execute_result"
    }
   ],
   "source": [
    "matrix[1][2]"
   ]
  },
  {
   "cell_type": "markdown",
   "id": "ee57fc19",
   "metadata": {},
   "source": [
    "* c) Use nested indexing to change the value at the second row and first column to 0.\n"
   ]
  },
  {
   "cell_type": "code",
   "execution_count": 46,
   "id": "bfd7aec9",
   "metadata": {},
   "outputs": [
    {
     "name": "stdout",
     "output_type": "stream",
     "text": [
      "[1, 2, 3]\n",
      "[0, 5, 6]\n",
      "[7, 8, 9]\n"
     ]
    }
   ],
   "source": [
    "matrix[1][0] = 0\n",
    "for i in matrix:\n",
    "    print(i)"
   ]
  },
  {
   "cell_type": "code",
   "execution_count": null,
   "id": "cbb5744d",
   "metadata": {},
   "outputs": [],
   "source": []
  }
 ],
 "metadata": {
  "kernelspec": {
   "display_name": "Python 3 (ipykernel)",
   "language": "python",
   "name": "python3"
  },
  "language_info": {
   "codemirror_mode": {
    "name": "ipython",
    "version": 3
   },
   "file_extension": ".py",
   "mimetype": "text/x-python",
   "name": "python",
   "nbconvert_exporter": "python",
   "pygments_lexer": "ipython3",
   "version": "3.11.4"
  }
 },
 "nbformat": 4,
 "nbformat_minor": 5
}

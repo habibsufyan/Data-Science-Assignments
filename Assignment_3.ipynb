{
  "nbformat": 4,
  "nbformat_minor": 0,
  "metadata": {
    "colab": {
      "provenance": []
    },
    "kernelspec": {
      "name": "python3",
      "display_name": "Python 3"
    },
    "language_info": {
      "name": "python"
    }
  },
  "cells": [
    {
      "cell_type": "markdown",
      "source": [
        "**Assignment 3: String Interpolation using `f''`\n",
        "\n",
        "**Instructions:**\n",
        "\n",
        "1. Create a variable `city` and assign the name of a city.\n",
        "2. Create a variable `temperature` and assign a temperature value in Celsius.\n",
        "3. Using `f''` string interpolation, create a string: \"The temperature in `<city>` is `<temperature>`°C.\"\n",
        "4. Print the interpolated string.\n"
      ],
      "metadata": {
        "id": "Muz9CQtfHtKE"
      }
    },
    {
      "cell_type": "code",
      "source": [
        "city = \"Islamabad\"\n",
        "Temperature = 23\n",
        "\n",
        "info = f'''The Temperture in {city} is {Temperature}°C.'''\n",
        "\n",
        "print (info)"
      ],
      "metadata": {
        "colab": {
          "base_uri": "https://localhost:8080/"
        },
        "id": "GC3x5LwxHuSS",
        "outputId": "680baa72-c695-44a1-aa50-56d28d7026cb"
      },
      "execution_count": 8,
      "outputs": [
        {
          "output_type": "stream",
          "name": "stdout",
          "text": [
            "The Temperture in Islamabad is 23°C.\n"
          ]
        }
      ]
    }
  ]
}
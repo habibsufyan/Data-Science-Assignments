{
 "cells": [
  {
   "cell_type": "markdown",
   "id": "97e389b0",
   "metadata": {},
   "source": [
    "# Assignment 5: Combining Formatting Methods**\n",
    "\n",
    "**Instructions:**\n",
    "\n",
    "1. Create a variable `product` and assign a product name.\n",
    "2. Create a variable `discount` and assign a discount percentage.\n",
    "3. Create a variable `original_price` and assign an original price.\n",
    "4. Calculate the discounted price using the formula: `discounted_price = original_price * (1 - discount / 100)`.\n",
    "5. Using any combination of string formatting methods (`+`, `.format()`, `f''`, `%()`), create a descriptive string with the product name, original price, discount percentage, and discounted price.\n",
    "6. Print the descriptive string.\n"
   ]
  },
  {
   "cell_type": "code",
   "execution_count": 4,
   "id": "87f46b28",
   "metadata": {},
   "outputs": [
    {
     "name": "stdout",
     "output_type": "stream",
     "text": [
      "\n",
      "LIMITED TIME OFFER! Samsung S10 machine which originally costs $10000 is now available at Flat 20% OFF. Now Samsung S10 will cost you just $8000. Hurry up and GRAB the offer\n",
      "\n"
     ]
    }
   ],
   "source": [
    "product = \"Samsung S10\"\n",
    "discount = 20\n",
    "original_price = 10000\n",
    "\n",
    "discounted_price = int(original_price * (1 - discount / 100))\n",
    "\n",
    "offer = f\"\"\"\n",
    "LIMITED TIME OFFER! {product} machine which originally costs ${original_price}\\\n",
    " is now available at Flat {discount}% OFF. Now {product} will cost you just ${discounted_price}.\\\n",
    " Hurry up and GRAB the offer\n",
    "\"\"\"\n",
    "\n",
    "print(offer)"
   ]
  },
  {
   "cell_type": "code",
   "execution_count": null,
   "id": "b51cb29e",
   "metadata": {},
   "outputs": [],
   "source": []
  }
 ],
 "metadata": {
  "kernelspec": {
   "display_name": "Python 3 (ipykernel)",
   "language": "python",
   "name": "python3"
  },
  "language_info": {
   "codemirror_mode": {
    "name": "ipython",
    "version": 3
   },
   "file_extension": ".py",
   "mimetype": "text/x-python",
   "name": "python",
   "nbconvert_exporter": "python",
   "pygments_lexer": "ipython3",
   "version": "3.11.4"
  }
 },
 "nbformat": 4,
 "nbformat_minor": 5
}
